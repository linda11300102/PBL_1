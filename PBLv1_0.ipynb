{
  "cells": [
    {
      "cell_type": "markdown",
      "metadata": {
        "id": "view-in-github",
        "colab_type": "text"
      },
      "source": [
        "<a href=\"https://colab.research.google.com/github/linda11300102/PBL_1/blob/main/PBLv1_0.ipynb\" target=\"_parent\"><img src=\"https://colab.research.google.com/assets/colab-badge.svg\" alt=\"Open In Colab\"/></a>"
      ]
    },
    {
      "cell_type": "code",
      "execution_count": null,
      "metadata": {
        "id": "F8ANmHwoqWEN"
      },
      "outputs": [],
      "source": [
        "!pip install google.colab"
      ]
    },
    {
      "cell_type": "code",
      "execution_count": null,
      "metadata": {
        "colab": {
          "base_uri": "https://localhost:8080/"
        },
        "id": "-vFV2lxaquAp",
        "outputId": "85d4918a-0746-441d-af1b-25a09cc86bac"
      },
      "outputs": [
        {
          "name": "stdout",
          "output_type": "stream",
          "text": [
            "Drive already mounted at /content/drive; to attempt to forcibly remount, call drive.mount(\"/content/drive\", force_remount=True).\n"
          ]
        }
      ],
      "source": [
        "import os\n",
        "from google.colab import drive\n",
        "drive.mount('/content/drive')#掛載"
      ]
    },
    {
      "cell_type": "code",
      "execution_count": null,
      "metadata": {
        "id": "6XwRzWNZq1js"
      },
      "outputs": [],
      "source": [
        "os.chdir('/content/drive/My Drive/Colab Notebooks')\n",
        "os.listdir()"
      ]
    },
    {
      "cell_type": "code",
      "execution_count": null,
      "metadata": {
        "id": "CBNgpbe1omW5"
      },
      "outputs": [],
      "source": [
        "import random\n",
        "import os\n",
        "\n",
        "countleaf = 0\n",
        "fileforv2 = '/content/drive/My Drive/Colab Notebooks/fileforv2'\n",
        "\n",
        "def load_words(fileforv2):\n",
        "    word_dict = {}\n",
        "    with open(fileforv2, 'r') as file:\n",
        "        for line in file:\n",
        "            line = line.strip()\n",
        "            if line:\n",
        "               word, translation = line.split(':')\n",
        "               word_dict[word.strip()] = translation.strip()\n",
        "    return word_dict\n",
        "\n",
        "def quiz(word_dict):\n",
        "    correct_count = 0\n",
        "    total_questions = 0\n",
        "    while True:\n",
        "        word = random.choice(list(word_dict.keys()))\n",
        "        answer = word_dict[word]\n",
        "        total_questions += 1\n",
        "        print(\"問題：\", word)\n",
        "        guess = input(\"請輸入答案：\")\n",
        "        if guess.strip() == '':\n",
        "            print(\"請填寫答案！\")\n",
        "            continue\n",
        "        if guess == answer:\n",
        "            print(\"正確！\")\n",
        "            correct_count += 1\n",
        "        else:\n",
        "            print(\"錯誤！正確答案是：\", answer)\n",
        "        play_again = input(\"是否要繼續出題？(是/否) \")\n",
        "        while play_again != '是' and play_again != '否':\n",
        "          print(\"重新輸入\")\n",
        "          play_again = input(\"是否要繼續出題？(是/否) \")\n",
        "          continue\n",
        "        if play_again.lower() == '否':\n",
        "          print(f\"回答正確的問題數量：{correct_count}/{total_questions}\")\n",
        "          countleaf = 2\n",
        "          break\n",
        "        elif play_again.lower() == '是':\n",
        "          continue\n",
        "\n",
        "function = input(\"輸入使用者您想要功能的號碼 \\n 功能一:填空題(1) 功能二:配對題(2)\\n\")\n",
        "match function:\n",
        "  case \"1\":\n",
        "    print(\"您目前在填空題\")\n",
        "    isempty = os.stat('/content/drive/My Drive/Colab Notebooks/fileforv2').st_size == 0\n",
        "    while(isempty == False):\n",
        "      a1 = input(\"是否執行上個題目(是/否)：\")\n",
        "      if(a1 == \"是\"):\n",
        "        word_dict = load_words(fileforv2)\n",
        "        quiz(word_dict)\n",
        "        countleaf = 2\n",
        "        break\n",
        "      elif(a1 == \"否\"):\n",
        "        break\n",
        "      else:\n",
        "        print(\"重新輸入\")\n",
        "        continue\n",
        "    if countleaf != 2:\n",
        "      file1 = open(\"fileforv2\",\"w\")\n",
        "      while True:\n",
        "        want = input(\"繼續(是)還是離開(否)\\n\")\n",
        "        if want == \"否\":\n",
        "          file1.close()\n",
        "          break\n",
        "        elif want == \"是\":\n",
        "          question = input(\"請輸入問題: \")\n",
        "          file1.write(question)\n",
        "          file1.write(\": \")\n",
        "          answer = input(\"請輸入正確答案: \")\n",
        "          file1.write(answer + \"\\n\")\n",
        "          countleaf = 1\n",
        "        else:\n",
        "          print(\"重新輸入\")\n",
        "          continue\n",
        "    if countleaf == 1:\n",
        "      word_dict = load_words(fileforv2)\n",
        "      quiz(word_dict)\n",
        "\n",
        "  case \"2\":\n",
        "    print(\"您目前在配對題\")"
      ]
    }
  ],
  "metadata": {
    "colab": {
      "provenance": [],
      "authorship_tag": "ABX9TyMgSkpufBs+emqMwf2csONW",
      "include_colab_link": true
    },
    "kernelspec": {
      "display_name": "Python 3",
      "name": "python3"
    },
    "language_info": {
      "name": "python"
    }
  },
  "nbformat": 4,
  "nbformat_minor": 0
}