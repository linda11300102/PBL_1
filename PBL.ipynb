{
  "cells": [
    {
      "cell_type": "markdown",
      "metadata": {
        "id": "view-in-github",
        "colab_type": "text"
      },
      "source": [
        "<a href=\"https://colab.research.google.com/github/linda11300102/PBL_1/blob/main/PBL.ipynb\" target=\"_parent\"><img src=\"https://colab.research.google.com/assets/colab-badge.svg\" alt=\"Open In Colab\"/></a>"
      ]
    },
    {
      "cell_type": "code",
      "execution_count": null,
      "metadata": {
        "id": "F8ANmHwoqWEN"
      },
      "outputs": [],
      "source": [
        "!pip install google.colab"
      ]
    },
    {
      "cell_type": "code",
      "execution_count": null,
      "metadata": {
        "id": "-vFV2lxaquAp"
      },
      "outputs": [],
      "source": [
        "import os\n",
        "from google.colab import drive\n",
        "drive.mount('/content/drive')#掛載"
      ]
    },
    {
      "cell_type": "code",
      "execution_count": null,
      "metadata": {
        "id": "6XwRzWNZq1js"
      },
      "outputs": [],
      "source": [
        "os.chdir('/content/drive/My Drive/Colab Notebooks')\n",
        "os.listdir()"
      ]
    },
    {
      "cell_type": "code",
      "execution_count": null,
      "metadata": {
        "id": "Yv4_Ac-9r4wS",
        "colab": {
          "base_uri": "https://localhost:8080/"
        },
        "outputId": "b7c645f3-85fc-4c97-b39a-3994a125cf32"
      },
      "outputs": [
        {
          "output_type": "stream",
          "name": "stdout",
          "text": [
            "輸入使用者您想要功能的號碼 \n",
            " 功能一:填空題(1) 功能二:配對題(2)\n",
            "1\n",
            "您目前在填空題\n",
            "繼續(是)還是離開(否)\n",
            "是\n",
            "請輸入問題:65464\n",
            "請輸入正確答案：44646\n",
            "繼續(是)還是離開(否)\n",
            "是\n",
            "請輸入問題:13465\n",
            "請輸入正確答案：45155\n",
            "繼續(是)還是離開(否)\n",
            "否\n",
            "問題： 13465\n",
            "46546\n",
            "答案錯誤。正確答案是 '45155'。\n",
            "問題： 65464\n",
            "454564\n",
            "答案錯誤。正確答案是 '44646'。\n",
            "回答正確的問題數量：0/2\n"
          ]
        }
      ],
      "source": [
        "import random\n",
        "\n",
        "def check_answer(question, answer):\n",
        "    #user_answer = input(question)\n",
        "    user_answer = input()\n",
        "    if user_answer.lower() == answer.lower():\n",
        "        print(\"正確答案！\")\n",
        "        return True\n",
        "    else:\n",
        "        print(f\"答案錯誤。正確答案是 '{answer}'。\")\n",
        "        return False\n",
        "\n",
        "function = input(\"輸入使用者您想要功能的號碼 \\n 功能一:填空題(1) 功能二:配對題(2)\\n\")\n",
        "match function:\n",
        "  case \"1\":\n",
        "        print(\"您目前在填空題\")\n",
        "        qa_list = []\n",
        "        while True:\n",
        "          want = input(\"繼續(是)還是離開(否)\\n\")\n",
        "          if want == \"否\":\n",
        "            break\n",
        "          elif want == \"是\":\n",
        "            question = input(\"請輸入問題:\")\n",
        "            answer = input(\"請輸入正確答案：\")\n",
        "            qa_list.append((question, answer))\n",
        "          else:\n",
        "            print(\"重新輸入\")\n",
        "            continue\n",
        "        random.shuffle(qa_list)\n",
        "        correct_count = 0\n",
        "        total_questions = len(qa_list)\n",
        "        for question, answer in qa_list:\n",
        "          print(\"問題：\", question)\n",
        "          if check_answer(question, answer):\n",
        "            correct_count += 1\n",
        "        print(f\"回答正確的問題數量：{correct_count}/{total_questions}\")\n",
        "\n",
        "  case \"2\":\n",
        "        print(\"您目前在配對題\")\n"
      ]
    },
    {
      "cell_type": "code",
      "execution_count": null,
      "metadata": {
        "colab": {
          "base_uri": "https://localhost:8080/"
        },
        "id": "cvbYAj7EHpyU",
        "outputId": "592199f0-3f21-4e62-b46d-2db47468a9b4"
      },
      "outputs": [
        {
          "name": "stdout",
          "output_type": "stream",
          "text": [
            "輸入使用者您想要功能的號碼 \n",
            " 功能一:填空題(1) 功能二:配對題(2)\n",
            "1\n",
            "您目前在填空題\n"
          ]
        }
      ],
      "source": [
        "import random\n",
        "\n",
        "def load_words(file_path):\n",
        "    word_dict = {}\n",
        "    with open(file_path, 'r') as file:\n",
        "        for line in file:\n",
        "            line = line.strip()\n",
        "            if line:\n",
        "                word, translation = line.split(':')\n",
        "                word_dict[word.strip()] = translation.strip()\n",
        "    return word_dict\n",
        "\n",
        "function = input(\"輸入使用者您想要功能的號碼 \\n 功能一:填空題(1) 功能二:配對題(2)\\n\")\n",
        "match function:\n",
        "  case \"1\":\n",
        "    print(\"您目前在填空題\")\n",
        "    while True:\n",
        "      want = input(\"繼續(是)還是離開(否)\\n\")\n",
        "      if want == \"否\"\n",
        "        break\n",
        "      elif want == \"是\":\n",
        "        file1 = open(\"file_path\",\"w\")\n",
        "        question = input(\"請輸入問題: \")\n",
        "        file1.write(question)\n",
        "        answer = input(\"請輸入正確答案: \")\n",
        "        file1.write(answer)\n",
        "        #file1.close()\n",
        "      else:\n",
        "        print(\"重新輸入\")\n",
        "        continue\n",
        "  \n",
        "  case \"2\":\n",
        "    print(\"您目前在配對題\")"
      ]
    },
    {
      "cell_type": "code",
      "source": [
        "file1 = open(\"file_path\",\"w\")\n",
        "question = input(\"請輸入問題: \")\n",
        "answer = input(\"請輸入正確答案：\")\n",
        "file1.write(question)\n",
        "file1.write(answer)\n",
        "file1.close()"
      ],
      "metadata": {
        "colab": {
          "base_uri": "https://localhost:8080/"
        },
        "id": "oeuKPRaJ2Rne",
        "outputId": "c3100eb4-2242-48a4-bb42-10bf5fde7c86"
      },
      "execution_count": null,
      "outputs": [
        {
          "name": "stdout",
          "output_type": "stream",
          "text": [
            "請輸入問題: 133\n",
            "請輸入正確答案：258\n"
          ]
        }
      ]
    }
  ],
  "metadata": {
    "colab": {
      "provenance": [],
      "authorship_tag": "ABX9TyOXFKkg4MkY6JAqTN19aDG3",
      "include_colab_link": true
    },
    "kernelspec": {
      "display_name": "Python 3",
      "name": "python3"
    },
    "language_info": {
      "name": "python"
    }
  },
  "nbformat": 4,
  "nbformat_minor": 0
}