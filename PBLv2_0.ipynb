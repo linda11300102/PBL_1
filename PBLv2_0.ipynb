{
  "cells": [
    {
      "cell_type": "markdown",
      "metadata": {
        "id": "view-in-github",
        "colab_type": "text"
      },
      "source": [
        "<a href=\"https://colab.research.google.com/github/linda11300102/PBL_1/blob/main/PBLv2_0.ipynb\" target=\"_parent\"><img src=\"https://colab.research.google.com/assets/colab-badge.svg\" alt=\"Open In Colab\"/></a>"
      ]
    },
    {
      "cell_type": "code",
      "execution_count": null,
      "metadata": {
        "id": "F8ANmHwoqWEN"
      },
      "outputs": [],
      "source": [
        "!pip install google.colab"
      ]
    },
    {
      "cell_type": "code",
      "execution_count": null,
      "metadata": {
        "colab": {
          "base_uri": "https://localhost:8080/"
        },
        "id": "-vFV2lxaquAp",
        "outputId": "85d4918a-0746-441d-af1b-25a09cc86bac"
      },
      "outputs": [
        {
          "name": "stdout",
          "output_type": "stream",
          "text": [
            "Drive already mounted at /content/drive; to attempt to forcibly remount, call drive.mount(\"/content/drive\", force_remount=True).\n"
          ]
        }
      ],
      "source": [
        "import os\n",
        "from google.colab import drive\n",
        "drive.mount('/content/drive')#掛載"
      ]
    },
    {
      "cell_type": "code",
      "execution_count": null,
      "metadata": {
        "id": "6XwRzWNZq1js"
      },
      "outputs": [],
      "source": [
        "os.chdir('/content/drive/My Drive/Colab Notebooks')\n",
        "os.listdir()"
      ]
    },
    {
      "cell_type": "code",
      "execution_count": null,
      "metadata": {
        "id": "CBNgpbe1omW5"
      },
      "outputs": [],
      "source": [
        "import random\n",
        "import os\n",
        "\n",
        "countleaf = 0\n",
        "fileforv2 = '/content/drive/My Drive/Colab Notebooks/fileforv2'\n",
        "\n",
        "def load_words(fileforv2):\n",
        "    word_dict = {}\n",
        "    with open(fileforv2, 'r') as file:\n",
        "        for line in file:\n",
        "            line = line.strip()\n",
        "            if line:\n",
        "               word, translation = line.split(':')\n",
        "               word_dict[word.strip()] = translation.strip()\n",
        "    return word_dict\n",
        "\n",
        "def quiz(word_dict):\n",
        "    correct_count = 0\n",
        "    total_questions = 0\n",
        "    while True:\n",
        "        word = random.choice(list(word_dict.keys()))\n",
        "        answer = word_dict[word]\n",
        "        total_questions += 1\n",
        "        print(\"問題：\", word)\n",
        "        guess = input(\"請輸入答案：\")\n",
        "        if guess.strip() == '':\n",
        "            print(\"請填寫答案！\")\n",
        "            continue\n",
        "        if guess == answer:\n",
        "            print(\"正確！\")\n",
        "            correct_count += 1\n",
        "        else:\n",
        "            print(\"錯誤！正確答案是：\", answer)\n",
        "        play_again = input(\"是否要繼續出題？(是/否) \")\n",
        "        while play_again != '是' and play_again != '否':\n",
        "          print(\"重新輸入\")\n",
        "          play_again = input(\"是否要繼續出題？(是/否) \")\n",
        "          continue\n",
        "        if play_again.lower() == '否':\n",
        "          print(f\"回答正確的問題數量：{correct_count}/{total_questions}\")\n",
        "          countleaf = 2\n",
        "          break\n",
        "        elif play_again.lower() == '是':\n",
        "          continue\n",
        "def play_game(file_path):\n",
        "    with open(file_path, 'r') as f:\n",
        "        lines = f.read().splitlines()\n",
        "    pairs_list = []\n",
        "    current_pair = []\n",
        "    for line in lines:\n",
        "        if line == \"------------------------\":\n",
        "            pairs_list.append(current_pair)\n",
        "            current_pair = []\n",
        "        else:\n",
        "            current_pair.append(line)\n",
        "    if current_pair:\n",
        "        pairs_list.append(current_pair)\n",
        "    for pair in pairs_list:\n",
        "        question = pair[0]\n",
        "        pair1 = pair[1:len(pair)//2+1]\n",
        "        pair2 = pair[len(pair)//2+1:]\n",
        "        pairs = list(zip(pair1, pair2))\n",
        "        random.shuffle(pairs)\n",
        "        print(f\"\\n{question}\")\n",
        "        for i, (q, _) in enumerate(pairs):\n",
        "            print(f\"{i + 1}. {q}\")\n",
        "        print(\"\\n\")\n",
        "        random.shuffle(pair2)\n",
        "        for i, a in enumerate(pair2):\n",
        "            print(f\"{i + 1}. {a}\")\n",
        "        user_answers = []\n",
        "        for i in range(len(pairs)):\n",
        "            user_answers.append(input(f\"Answer {i + 1}: \"))\n",
        "        all_correct = True\n",
        "        incorrect_answers = []\n",
        "        for (q, a), user_answer in zip(pairs, user_answers):\n",
        "            if user_answer.lower() != a.lower():\n",
        "                incorrect_answers.append((q, a, user_answer))\n",
        "                all_correct = False\n",
        "\n",
        "        if all_correct:\n",
        "            print(\"\\n全部正確!\")\n",
        "        else:\n",
        "            print(\"\\n沒有全部正確\")\n",
        "            for q, a, user_answer in incorrect_answers:\n",
        "                print(f\"'{q}',不是'{user_answer}'而是'{a}'.\")\n",
        "function = input(\"輸入使用者您想要功能的號碼 \\n 功能一:填空題(1) 功能二:配對題(2)\\n\")\n",
        "match function:\n",
        "  case \"1\":\n",
        "    print(\"您目前在填空題\")\n",
        "    isempty = os.stat('/content/drive/My Drive/Colab Notebooks/fileforv2').st_size == 0\n",
        "    while(isempty == False):\n",
        "      a1 = input(\"是否執行上個題目(是/否)：\")\n",
        "      if(a1 == \"是\"):\n",
        "        word_dict = load_words(fileforv2)\n",
        "        quiz(word_dict)\n",
        "        countleaf = 2\n",
        "        break\n",
        "      elif(a1 == \"否\"):\n",
        "        break\n",
        "      else:\n",
        "        print(\"重新輸入\")\n",
        "        continue\n",
        "    if countleaf != 2:\n",
        "      file1 = open(\"fileforv2\",\"w\")\n",
        "      while True:\n",
        "        want = input(\"繼續(是)還是離開(否)\\n\")\n",
        "        if want == \"否\":\n",
        "          file1.close()\n",
        "          break\n",
        "        elif want == \"是\":\n",
        "          question = input(\"請輸入問題: \")\n",
        "          file1.write(question)\n",
        "          file1.write(\": \")\n",
        "          answer = input(\"請輸入正確答案: \")\n",
        "          file1.write(answer + \"\\n\")\n",
        "          countleaf = 1\n",
        "        else:\n",
        "          print(\"重新輸入\")\n",
        "          continue\n",
        "    if countleaf == 1:\n",
        "      word_dict = load_words(fileforv2)\n",
        "      quiz(word_dict)\n",
        "\n",
        "  case \"2\":\n",
        "    print(\"您目前在配對題\")\n",
        "    isempty = os.stat('/content/drive/My Drive/Colab Notebooks/fileforv2').st_size == 0\n",
        "    while(isempty == False):\n",
        "      b1 = input(\"是否執行上個題目(是/否)：\")\n",
        "      if(b1 == \"是\"):\n",
        "        play_game('pairs.txt')\n",
        "        break\n",
        "      elif(b1 == \"否\"):\n",
        "        break\n",
        "      else:\n",
        "        print(\"重新輸入\")\n",
        "        continue\n",
        "    pairs_list = []\n",
        "    num_pairs = int(input(\"請輸入題組數量: \"))\n",
        "    for i in range(num_pairs):\n",
        "      question = input(f\"\\n請輸入第{i+1}組題目: \")\n",
        "      pair1 = input(f\"請輸入第{i+1}組配對問題 (請以逗號隔開每個問題): \").split(',')\n",
        "      pair2 = input(f\"請輸入第{i+1}組配對答案 (請以逗號隔開每個答案): \").split(',')\n",
        "      pairs_list.append((question, pair1, pair2))\n",
        "    with open('pairs.txt', 'w') as f:\n",
        "      for question, pair1, pair2 in pairs_list:\n",
        "        f.write(f\"{question}\\n\")\n",
        "        for q in pair1:\n",
        "          f.write(f\"{q}\\n\")\n",
        "        for a in pair2:\n",
        "          f.write(f\"{a}\\n\")\n",
        "        f.write(\"------------------------\\n\")\n",
        "    play_game('pairs.txt')"
      ]
    }
  ],
  "metadata": {
    "colab": {
      "provenance": [],
      "authorship_tag": "ABX9TyPx6R6fnjv/mf68f7VRcyMH",
      "include_colab_link": true
    },
    "kernelspec": {
      "display_name": "Python 3",
      "name": "python3"
    },
    "language_info": {
      "name": "python"
    }
  },
  "nbformat": 4,
  "nbformat_minor": 0
}